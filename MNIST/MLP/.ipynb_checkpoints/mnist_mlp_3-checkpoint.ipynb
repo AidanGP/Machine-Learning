{
 "cells": [
  {
   "cell_type": "code",
   "execution_count": 1,
   "metadata": {},
   "outputs": [],
   "source": [
    "# MNIST Classifier using GPU acceleration. This model uses 6 fully connected layers and was made to mimmic a design that I found online.\n",
    "import torch\n",
    "import torchvision\n",
    "from torchvision import transforms, datasets\n",
    "from tqdm import trange, tqdm\n",
    "import torch.optim as optim\n",
    "import torch.nn as nn\n",
    "import torch.nn.functional as F\n",
    "import numpy as np"
   ]
  },
  {
   "cell_type": "code",
   "execution_count": 2,
   "metadata": {},
   "outputs": [],
   "source": [
    "batch_size = 128\n",
    "\n",
    "train = datasets.MNIST('../MNIST_DATA', train=True, download=True,\n",
    "                      transform=transforms.Compose([transforms.ToTensor()]))\n",
    "\n",
    "test  = datasets.MNIST('../MNIST_DATA', train=False, download=True,\n",
    "                      transform=transforms.Compose([transforms.ToTensor()]))\n",
    "trainset = torch.utils.data.DataLoader(train, batch_size=batch_size, shuffle=True)\n",
    "testset  = torch.utils.data.DataLoader(test,  batch_size=batch_size, shuffle=True)"
   ]
  },
  {
   "cell_type": "code",
   "execution_count": 3,
   "metadata": {},
   "outputs": [],
   "source": [
    "class Net(nn.Module):\n",
    "    def __init__(self):\n",
    "        super().__init__()\n",
    "        self.fc1 = nn.Linear(784, 2500)\n",
    "        self.fc2 = nn.Linear(2500, 2000)\n",
    "        self.fc3 = nn.Linear(2000, 1500)\n",
    "        self.fc4 = nn.Linear(1500, 1000)\n",
    "        self.fc5 = nn.Linear(1000, 500)\n",
    "        self.fc6 = nn.Linear(500, 10)\n",
    "\n",
    "    def forward(self, x):\n",
    "        x = F.relu(self.fc1(x))\n",
    "        x = F.relu(self.fc2(x))\n",
    "        x = F.relu(self.fc3(x))\n",
    "        x = F.relu(self.fc4(x))\n",
    "        x = F.relu(self.fc5(x))\n",
    "        x = self.fc6(x)\n",
    "        return F.log_softmax(x, dim=1)"
   ]
  },
  {
   "cell_type": "code",
   "execution_count": 4,
   "metadata": {},
   "outputs": [],
   "source": [
    "def train(model, epochs):\n",
    "    accuracies, losses = [], []\n",
    "    optimiser = optim.Adam(model.parameters(), lr=0.001)\n",
    "    for epoch in range(epochs):\n",
    "        for data in tqdm(trainset):\n",
    "            X, y = data\n",
    "            X, y = X.cuda(), y.cuda()\n",
    "            model.zero_grad()\n",
    "            output = model(X.view(-1, 784))\n",
    "            loss = F.nll_loss(output, y)\n",
    "            losses.append(loss)\n",
    "            preds = [torch.argmax(out) for out in output]\n",
    "            acc = np.array([(int(a) == int(b)) for a, b in zip(preds, y)]).mean()\n",
    "            accuracies.append(acc)\n",
    "            loss.backward()\n",
    "            optimiser.step()\n",
    "    return losses, accuracies"
   ]
  },
  {
   "cell_type": "code",
   "execution_count": 5,
   "metadata": {},
   "outputs": [],
   "source": [
    "def test(model):\n",
    "    losses, accuracies = [], []\n",
    "    for data in tqdm(testset):\n",
    "        X, y = data\n",
    "        X, y = X.cuda(), y.cuda()\n",
    "        out = model(X.view(-1, 784))\n",
    "        loss = F.nll_loss(out, y)\n",
    "        preds = [torch.argmax(i) for i in out]\n",
    "        acc = np.array([ (int(a) == int(b)) for a, b in zip(preds, y) ]).mean()\n",
    "        losses.append(loss)\n",
    "        accuracies.append(acc)\n",
    "    return losses, accuracies"
   ]
  },
  {
   "cell_type": "code",
   "execution_count": 6,
   "metadata": {},
   "outputs": [],
   "source": [
    "model = Net().cuda()"
   ]
  },
  {
   "cell_type": "code",
   "execution_count": null,
   "metadata": {},
   "outputs": [
    {
     "name": "stderr",
     "output_type": "stream",
     "text": [
      "100%|████████████████████████████████████████████████████████████████████████████████| 469/469 [00:19<00:00, 23.53it/s]\n",
      " 88%|██████████████████████████████████████████████████████████████████████▌         | 414/469 [00:17<00:02, 23.72it/s]"
     ]
    }
   ],
   "source": [
    "train(model, 10)"
   ]
  },
  {
   "cell_type": "code",
   "execution_count": null,
   "metadata": {},
   "outputs": [],
   "source": [
    "losses, accuracies = test(model)"
   ]
  },
  {
   "cell_type": "code",
   "execution_count": null,
   "metadata": {},
   "outputs": [],
   "source": [
    "import matplotlib.pyplot as plt\n",
    "plt.plot(losses)\n",
    "plt.plot(accuracies)"
   ]
  }
 ],
 "metadata": {
  "kernelspec": {
   "display_name": "Python 3",
   "language": "python",
   "name": "python3"
  },
  "language_info": {
   "codemirror_mode": {
    "name": "ipython",
    "version": 3
   },
   "file_extension": ".py",
   "mimetype": "text/x-python",
   "name": "python",
   "nbconvert_exporter": "python",
   "pygments_lexer": "ipython3",
   "version": "3.8.5"
  }
 },
 "nbformat": 4,
 "nbformat_minor": 4
}
