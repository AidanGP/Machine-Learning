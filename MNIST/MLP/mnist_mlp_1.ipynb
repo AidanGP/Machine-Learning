{
 "cells": [
  {
   "cell_type": "code",
   "execution_count": 1,
   "metadata": {},
   "outputs": [],
   "source": [
    "# My fist MNIST Classifier, this does not have GPU acceleration\n",
    "import torch\n",
    "import numpy as np\n",
    "import torch.nn as nn\n",
    "import torch.nn.functional as F\n",
    "import torch.optim as optim\n",
    "import torchvision\n",
    "from torchvision import transforms, datasets"
   ]
  },
  {
   "cell_type": "code",
   "execution_count": 2,
   "metadata": {},
   "outputs": [],
   "source": [
    "# Hyperparameters\n",
    "BS = 10 # Batch size\n",
    "lr = 0.001 # learning rate\n",
    "epochs = 3 #number of full iterations through the training set"
   ]
  },
  {
   "cell_type": "code",
   "execution_count": 3,
   "metadata": {},
   "outputs": [],
   "source": [
    "# data used for training the model\n",
    "train = datasets.MNIST('../MNIST_DATA', train=True, download=True,\n",
    "                      transform=transforms.Compose([transforms.ToTensor()]))\n",
    "\n",
    "# data used for testing the accuracy of the model\n",
    "test  = datasets.MNIST('../MNIST_DATA', train=False, download=True,\n",
    "                      transform=transforms.Compose([transforms.ToTensor()]))\n",
    "\n",
    "# group the data sets into shuffled batches to improve the validity of the model\n",
    "trainset = torch.utils.data.DataLoader(train, batch_size=BS, shuffle=True)\n",
    "testset  = torch.utils.data.DataLoader(test,  batch_size=BS, shuffle=True)"
   ]
  },
  {
   "cell_type": "code",
   "execution_count": 4,
   "metadata": {},
   "outputs": [],
   "source": [
    "# neural network class\n",
    "class Net(nn.Module): # inherit the torch.nn.Model methods\n",
    "    def __init__(self):\n",
    "        super().__init__() # initialise parent class\n",
    "        self.l1 = nn.Linear(784, 128) # create the linear layers\n",
    "        self.l2 = nn.Linear(128, 64) # the linear layers manage the weights and biases\n",
    "        self.l3 = nn.Linear(64, 64) # 4 laters with 784 inputs and 10 outputs.\n",
    "        self.l4 = nn.Linear(64, 10) # 10 outputs corresponding to 10 digits\n",
    "\n",
    "    def forward(self, x): # feed forward pass\n",
    "        x = F.relu(self.l1(x)) # relu is rectified linear function\n",
    "        x = F.relu(self.l2(x)) # relu is max(0, x)\n",
    "        x = F.relu(self.l3(x)) # apply relu to the output of every layer\n",
    "        x = self.l4(x)\n",
    "        # log softmax returns an array of confidence scores for each digit\n",
    "        return F.log_softmax(x, dim=1)"
   ]
  },
  {
   "cell_type": "code",
   "execution_count": 5,
   "metadata": {},
   "outputs": [],
   "source": [
    "def train(model, epochs):\n",
    "    optimiser = optim.Adam(model.parameters(), lr=lr) # start an optimiser using the Adam algorithm\n",
    "    for epoch in range(epochs): # iterate through the training set epoch times.\n",
    "        for data in trainset:   # iterate through the images in the training set\n",
    "            X, y = data         # set x and y equal to the image and the label respectively\n",
    "            model.zero_grad() # reset the derivitives to zero\n",
    "            out = model(X.view(-1, 784)) # pass an image through the network\n",
    "            loss = F.nll_loss(out, y) # calculate the loss / error / cost\n",
    "            loss.backward() # calculate the derivitive of the loss function\n",
    "            optimiser.step() # increment the weights and biases\n",
    "        return loss"
   ]
  },
  {
   "cell_type": "code",
   "execution_count": 6,
   "metadata": {},
   "outputs": [],
   "source": [
    "def test(model):\n",
    "    total, correct = 0, 0\n",
    "    # we want to iterate through the test set without computing gradients because we arent learning from this\n",
    "    with torch.no_grad():\n",
    "        for data in testset: # iterate through the images\n",
    "            X, y = data # assign x and y to the image and the label respectively\n",
    "            out = model(X.view(-1, 784)) # pass image to network\n",
    "            for ind, i in enumerate(out): #check if the returned value from the network matches the label\n",
    "                correct += (torch.argmax(i) == y[ind]).float() #increment the counters\n",
    "                total   += 1\n",
    "    return correct/total"
   ]
  }
 ],
 "metadata": {
  "kernelspec": {
   "display_name": "Python 3",
   "language": "python",
   "name": "python3"
  },
  "language_info": {
   "codemirror_mode": {
    "name": "ipython",
    "version": 3
   },
   "file_extension": ".py",
   "mimetype": "text/x-python",
   "name": "python",
   "nbconvert_exporter": "python",
   "pygments_lexer": "ipython3",
   "version": "3.8.5"
  }
 },
 "nbformat": 4,
 "nbformat_minor": 4
}
