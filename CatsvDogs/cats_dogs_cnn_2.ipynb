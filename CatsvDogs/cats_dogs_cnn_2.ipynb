{
 "cells": [
  {
   "cell_type": "code",
   "execution_count": 1,
   "metadata": {},
   "outputs": [],
   "source": [
    "import torch\n",
    "import torchvision\n",
    "from torchvision import transforms, datasets\n",
    "from tqdm import trange, tqdm\n",
    "import torch.optim as optim\n",
    "import torch.nn as nn\n",
    "import torch.nn.functional as F\n",
    "import numpy as np\n",
    "import os"
   ]
  },
  {
   "cell_type": "code",
   "execution_count": 2,
   "metadata": {},
   "outputs": [],
   "source": [
    "#Dataset already shuffled\n",
    "dataset = np.load(os.path.abspath('cats_dogs_data.npy'), allow_pickle=True)\n",
    "\n",
    "#Segment Dataset into X and y\n",
    "dataset_X = torch.Tensor([i[0]/255 for i in dataset]).view(-1, 1, 50, 50)\n",
    "dataset_y = torch.Tensor([j[1] for j in dataset])\n",
    "\n",
    "#Segment Dataset into training and testing\n",
    "test_num = 2494\n",
    "train_X = dataset_X[:-test_num]\n",
    "train_y = dataset_y[:-test_num]\n",
    "\n",
    "test_X = dataset_X[-test_num:]\n",
    "test_y = dataset_y[-test_num:]"
   ]
  },
  {
   "cell_type": "code",
   "execution_count": 3,
   "metadata": {},
   "outputs": [],
   "source": [
    "class Net(nn.Module):\n",
    "    def __init__(self):\n",
    "        super(Net, self).__init__()\n",
    "        \n",
    "        self.conv = nn.Sequential(\n",
    "            nn.Conv2d(1, 32, 5),\n",
    "            nn.ReLU(),\n",
    "            nn.Conv2d(32, 32, 5),\n",
    "            nn.BatchNorm2d(32),\n",
    "            nn.ReLU(),\n",
    "            nn.MaxPool2d(2),\n",
    "            nn.Dropout(0.25),\n",
    "            nn.Conv2d(32, 64, 5),\n",
    "            nn.ReLU(),\n",
    "            nn.Conv2d(64, 64, 5),\n",
    "            nn.BatchNorm2d(64),\n",
    "            nn.ReLU(),\n",
    "            nn.MaxPool2d(2),\n",
    "            nn.Dropout(0.25),\n",
    "        )\n",
    "        self.fc = nn.Sequential(\n",
    "            nn.Linear(64*6*6, 256),\n",
    "            nn.BatchNorm1d(256),\n",
    "            nn.ReLU(),\n",
    "            nn.Linear(256, 128),\n",
    "            nn.BatchNorm1d(128),\n",
    "            nn.ReLU(),\n",
    "            nn.Linear(128, 84),\n",
    "            nn.BatchNorm1d(84),\n",
    "            nn.ReLU(),\n",
    "            nn.Dropout(0.25),\n",
    "            nn.Linear(84, 10)\n",
    "        )\n",
    "        \n",
    "    def forward(self, x):\n",
    "        x = self.conv(x)\n",
    "        x = x.view(-1, 64*6*6)\n",
    "        x = self.fc(x)\n",
    "        return F.log_softmax(x, dim=1)"
   ]
  },
  {
   "cell_type": "code",
   "execution_count": 69,
   "metadata": {},
   "outputs": [],
   "source": [
    "def train(epochs):\n",
    "    losses, accs = [],[]\n",
    "    for epoch in range(epochs):\n",
    "        for batch in (t := trange(0, len(train_X), BATCH_SIZE)):\n",
    "            batch_X = train_X[batch:batch+BATCH_SIZE].view(-1, 1, 50, 50).cuda()\n",
    "            batch_y = train_y[batch:batch+BATCH_SIZE]\n",
    "            temp = torch.Tensor([torch.argmax(u).int() for u in batch_y]).long().cuda()\n",
    "\n",
    "            model.zero_grad()\n",
    "            out = model(batch_X)\n",
    "            loss = F.nll_loss(out, temp)\n",
    "            loss.backward()\n",
    "            optimiser.step()\n",
    "            preds = [torch.argmax(i) for i in out]\n",
    "            acc = np.array([int(a)==int(b) for a,b in zip(preds,temp)]).mean()\n",
    "            losses.append(loss)\n",
    "            accs.append(acc)\n",
    "            t.set_description(f'Loss :: {loss}')\n",
    "    print(f'Epoch {epoch} :: Loss {loss}')\n",
    "    return losses,accs"
   ]
  },
  {
   "cell_type": "code",
   "execution_count": 83,
   "metadata": {},
   "outputs": [],
   "source": [
    "def test():\n",
    "    with torch.no_grad():\n",
    "        accs = []\n",
    "        \n",
    "        out = model(test_X.view(-1, 1, 50, 50).cuda())\n",
    "        temp = torch.Tensor([torch.argmax(u).int() for u in test_y]).long().cuda()\n",
    "        preds = [torch.argmax(i) for i in out]\n",
    "        acc = np.array([int(a)==int(b) for a,b in zip(preds,temp)]).mean()\n",
    "        accs.append(acc)\n",
    "        #t.set_description(f'Acc :: {accs[-1]}')\n",
    "    return accs"
   ]
  },
  {
   "cell_type": "code",
   "execution_count": 75,
   "metadata": {},
   "outputs": [],
   "source": [
    "model = Net().cuda()\n",
    "\n",
    "BATCH_SIZE = 100\n",
    "optimiser = optim.Adam(model.parameters(), lr=0.001)"
   ]
  },
  {
   "cell_type": "code",
   "execution_count": 76,
   "metadata": {},
   "outputs": [
    {
     "name": "stderr",
     "output_type": "stream",
     "text": [
      "Loss :: 0.49899861216545105: 100%|███████████████████████████████████████████████████| 225/225 [00:10<00:00, 20.68it/s]\n",
      "Loss :: 0.3578071892261505: 100%|████████████████████████████████████████████████████| 225/225 [00:10<00:00, 21.07it/s]\n",
      "Loss :: 0.2808544337749481: 100%|████████████████████████████████████████████████████| 225/225 [00:11<00:00, 20.43it/s]\n",
      "Loss :: 0.248319610953331: 100%|█████████████████████████████████████████████████████| 225/225 [00:11<00:00, 20.35it/s]\n",
      "Loss :: 0.21641145646572113: 100%|███████████████████████████████████████████████████| 225/225 [00:11<00:00, 20.38it/s]\n",
      "Loss :: 0.25977686047554016: 100%|███████████████████████████████████████████████████| 225/225 [00:10<00:00, 20.90it/s]\n",
      "Loss :: 0.17616772651672363: 100%|███████████████████████████████████████████████████| 225/225 [00:11<00:00, 20.22it/s]\n",
      "Loss :: 0.17878252267837524: 100%|███████████████████████████████████████████████████| 225/225 [00:11<00:00, 20.23it/s]\n",
      "Loss :: 0.17714014649391174: 100%|███████████████████████████████████████████████████| 225/225 [00:11<00:00, 20.22it/s]\n",
      "Loss :: 0.24219390749931335: 100%|███████████████████████████████████████████████████| 225/225 [00:11<00:00, 20.12it/s]\n",
      "Loss :: 0.08957506716251373: 100%|███████████████████████████████████████████████████| 225/225 [00:11<00:00, 20.22it/s]\n",
      "Loss :: 0.07676660269498825: 100%|███████████████████████████████████████████████████| 225/225 [00:11<00:00, 20.28it/s]\n",
      "Loss :: 0.08079008758068085: 100%|███████████████████████████████████████████████████| 225/225 [00:11<00:00, 20.29it/s]\n",
      "Loss :: 0.101448193192482: 100%|█████████████████████████████████████████████████████| 225/225 [00:11<00:00, 20.16it/s]\n",
      "Loss :: 0.09258206188678741: 100%|███████████████████████████████████████████████████| 225/225 [00:11<00:00, 19.87it/s]"
     ]
    },
    {
     "name": "stdout",
     "output_type": "stream",
     "text": [
      "Epoch 14 :: Loss 0.09258206188678741\n"
     ]
    },
    {
     "name": "stderr",
     "output_type": "stream",
     "text": [
      "\n"
     ]
    }
   ],
   "source": [
    "l, a = train(15)"
   ]
  },
  {
   "cell_type": "code",
   "execution_count": 92,
   "metadata": {},
   "outputs": [
    {
     "data": {
      "text/plain": [
       "[<matplotlib.lines.Line2D at 0x20f31de9ca0>]"
      ]
     },
     "execution_count": 92,
     "metadata": {},
     "output_type": "execute_result"
    },
    {
     "data": {
      "image/png": "[encoded data removed]",
      "text/plain": [
       "<Figure size 432x288 with 1 Axes>"
      ]
     },
     "metadata": {
      "needs_background": "light"
     },
     "output_type": "display_data"
    }
   ],
   "source": [
    "plt.ylim(-0.1, 1.1)\n",
    "plt.plot(l)\n",
    "plt.plot(a)"
   ]
  },
  {
   "cell_type": "code",
   "execution_count": 95,
   "metadata": {},
   "outputs": [
    {
     "data": {
      "text/plain": [
       "0.9426230769230769"
      ]
     },
     "execution_count": 95,
     "metadata": {},
     "output_type": "execute_result"
    }
   ],
   "source": [
    "np.array(a[-100:]).mean()"
   ]
  },
  {
   "cell_type": "code",
   "execution_count": 90,
   "metadata": {},
   "outputs": [],
   "source": [
    "acc = test()"
   ]
  },
  {
   "cell_type": "code",
   "execution_count": 91,
   "metadata": {},
   "outputs": [
    {
     "data": {
      "text/plain": [
       "[0.8360064153969526]"
      ]
     },
     "execution_count": 91,
     "metadata": {},
     "output_type": "execute_result"
    }
   ],
   "source": [
    "acc"
   ]
  }
 ],
 "metadata": {
  "kernelspec": {
   "display_name": "Python 3",
   "language": "python",
   "name": "python3"
  },
  "language_info": {
   "codemirror_mode": {
    "name": "ipython",
    "version": 3
   },
   "file_extension": ".py",
   "mimetype": "text/x-python",
   "name": "python",
   "nbconvert_exporter": "python",
   "pygments_lexer": "ipython3",
   "version": "3.8.5"
  }
 },
 "nbformat": 4,
 "nbformat_minor": 4
}
