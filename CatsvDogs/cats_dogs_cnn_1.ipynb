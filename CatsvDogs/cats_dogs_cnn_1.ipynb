{
 "cells": [
  {
   "cell_type": "code",
   "execution_count": 1,
   "metadata": {},
   "outputs": [],
   "source": [
    "import numpy as np\n",
    "import torch\n",
    "import torch.nn as nn\n",
    "import torch.nn.functional as F\n",
    "import torch.optim as optim\n",
    "import os\n",
    "from tqdm import trange"
   ]
  },
  {
   "cell_type": "code",
   "execution_count": 5,
   "metadata": {},
   "outputs": [],
   "source": [
    "#Dataset already shuffled\n",
    "dataset = np.load(os.path.abspath('cats_dogs_data.npy'), allow_pickle=True)\n",
    "\n",
    "#Segment Dataset into X and y\n",
    "dataset_X = torch.Tensor([i[0]/255 for i in dataset]).view(-1, 1, 50, 50)\n",
    "dataset_y = torch.Tensor([j[1] for j in dataset])\n",
    "\n",
    "#Segment Dataset into training and testing\n",
    "test_num = 2494\n",
    "train_X = dataset_X[:-test_num]\n",
    "train_y = dataset_y[:-test_num]\n",
    "\n",
    "test_X = dataset_X[-test_num:]\n",
    "test_y = dataset_y[-test_num:]"
   ]
  },
  {
   "cell_type": "code",
   "execution_count": 6,
   "metadata": {},
   "outputs": [],
   "source": [
    "class Net(nn.Module):\n",
    "\tdef __init__(self):\n",
    "\t\tsuper().__init__()\n",
    "\n",
    "\t\tself.conv1 = nn.Conv2d( in_channels=1 , out_channels=32 , kernel_size=5 )\n",
    "\t\tself.conv2 = nn.Conv2d( in_channels=32, out_channels=64 , kernel_size=5 )\n",
    "\t\tself.conv3 = nn.Conv2d( in_channels=64, out_channels=128, kernel_size=5 )\n",
    "\n",
    "\t\tself.pool  = nn.MaxPool2d( kernel_size=2, stride=2 )\n",
    "\n",
    "\t\tself.fc1 = nn.Linear( in_features=128*2*2, out_features=128 )\n",
    "\t\tself.fc2 = nn.Linear( in_features=128, out_features=2 )\n",
    "\n",
    "\tdef forward(self, x):\n",
    "\t\tx = self.pool(F.relu(self.conv1(x)))\n",
    "\t\tx = self.pool(F.relu(self.conv2(x)))\n",
    "\t\tx = self.pool(F.relu(self.conv3(x)))\n",
    "\n",
    "\t\tx = x.view(-1, 128*2*2)\n",
    "\t\tx = F.relu(self.fc1(x))\n",
    "\t\tx = self.fc2(x)\n",
    "\t\treturn F.log_softmax(x, dim=1)"
   ]
  },
  {
   "cell_type": "code",
   "execution_count": 92,
   "metadata": {},
   "outputs": [],
   "source": [
    "model = Net().cuda()\n",
    "\n",
    "BATCH_SIZE = 100\n",
    "optimiser = optim.Adam(model.parameters(), lr=0.001)\n",
    "loss_fn = nn.MSELoss()"
   ]
  },
  {
   "cell_type": "code",
   "execution_count": 129,
   "metadata": {},
   "outputs": [],
   "source": [
    "def train(epochs):\n",
    "    for epoch in range(epochs):\n",
    "        for batch in (t := trange(0, len(train_X), BATCH_SIZE)):\n",
    "            batch_X = train_X[batch:batch+BATCH_SIZE].view(-1, 1, 50, 50).cuda()\n",
    "            batch_y = train_y[batch:batch+BATCH_SIZE]\n",
    "            temp = torch.Tensor([torch.argmax(u).int() for u in batch_y]).long().cuda()\n",
    "\n",
    "            model.zero_grad()\n",
    "            out = model(batch_X)\n",
    "            loss = F.nll_loss(out, temp)\n",
    "            loss.backward()\n",
    "            optimiser.step()\n",
    "            t.set_description(f'Loss :: {loss}')\n",
    "    print(f'Epoch {epoch} :: Loss {loss}')"
   ]
  },
  {
   "cell_type": "code",
   "execution_count": 136,
   "metadata": {},
   "outputs": [],
   "source": [
    "def test():\n",
    "\twith torch.no_grad():\n",
    "\t\ttotal, correct = 0, 0\n",
    "\t\tfor img in (t := trange(len(test_X))):\n",
    "\t\t\tout = model(test_X[img].view(-1, 1, 50, 50).cuda())[0]\n",
    "\t\t\tpred = torch.argmax(out)\n",
    "\t\t\treal = torch.argmax(test_y[img])\n",
    "\t\t\tif pred == real:\n",
    "\t\t\t\tcorrect += 1\n",
    "\t\t\ttotal += 1\n",
    "\t\t\tt.set_description(f'Acc :: {correct/total}')\n",
    "\treturn correct/total"
   ]
  },
  {
   "cell_type": "code",
   "execution_count": 139,
   "metadata": {},
   "outputs": [
    {
     "name": "stderr",
     "output_type": "stream",
     "text": [
      "Loss :: 0.3192097842693329: 100%|████████████████████████████████████████████████████| 225/225 [00:04<00:00, 45.17it/s]\n",
      "Loss :: 0.29855793714523315: 100%|███████████████████████████████████████████████████| 225/225 [00:04<00:00, 45.14it/s]\n",
      "Loss :: 0.25889232754707336: 100%|███████████████████████████████████████████████████| 225/225 [00:04<00:00, 45.37it/s]\n",
      "Loss :: 0.25435101985931396: 100%|███████████████████████████████████████████████████| 225/225 [00:04<00:00, 45.11it/s]\n",
      "Loss :: 0.1847064346075058: 100%|████████████████████████████████████████████████████| 225/225 [00:04<00:00, 45.12it/s]\n",
      "Loss :: 0.14774037897586823: 100%|███████████████████████████████████████████████████| 225/225 [00:04<00:00, 45.08it/s]\n",
      "Loss :: 0.14544925093650818: 100%|███████████████████████████████████████████████████| 225/225 [00:04<00:00, 45.08it/s]\n",
      "Loss :: 0.13621017336845398: 100%|███████████████████████████████████████████████████| 225/225 [00:05<00:00, 44.88it/s]\n",
      "Loss :: 0.15191492438316345: 100%|███████████████████████████████████████████████████| 225/225 [00:05<00:00, 44.86it/s]\n",
      "Loss :: 0.10975751280784607: 100%|███████████████████████████████████████████████████| 225/225 [00:05<00:00, 44.56it/s]"
     ]
    },
    {
     "name": "stdout",
     "output_type": "stream",
     "text": [
      "Epoch 9 :: Loss 0.10975751280784607\n"
     ]
    },
    {
     "name": "stderr",
     "output_type": "stream",
     "text": [
      "\n"
     ]
    }
   ],
   "source": [
    "train(10)"
   ]
  },
  {
   "cell_type": "code",
   "execution_count": 140,
   "metadata": {},
   "outputs": [
    {
     "name": "stderr",
     "output_type": "stream",
     "text": [
      "Acc :: 0.7734562951082599: 100%|██████████████████████████████████████████████████| 2494/2494 [00:06<00:00, 360.21it/s]\n"
     ]
    },
    {
     "data": {
      "text/plain": [
       "0.7734562951082599"
      ]
     },
     "execution_count": 140,
     "metadata": {},
     "output_type": "execute_result"
    }
   ],
   "source": [
    "test()"
   ]
  }
 ],
 "metadata": {
  "kernelspec": {
   "display_name": "Python 3",
   "language": "python",
   "name": "python3"
  },
  "language_info": {
   "codemirror_mode": {
    "name": "ipython",
    "version": 3
   },
   "file_extension": ".py",
   "mimetype": "text/x-python",
   "name": "python",
   "nbconvert_exporter": "python",
   "pygments_lexer": "ipython3",
   "version": "3.8.5"
  }
 },
 "nbformat": 4,
 "nbformat_minor": 4
}
