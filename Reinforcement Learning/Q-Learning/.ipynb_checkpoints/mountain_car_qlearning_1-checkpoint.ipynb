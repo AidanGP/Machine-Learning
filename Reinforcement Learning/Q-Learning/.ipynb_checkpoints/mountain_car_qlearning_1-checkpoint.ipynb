{
 "cells": [
  {
   "cell_type": "code",
   "execution_count": 1,
   "metadata": {},
   "outputs": [],
   "source": [
    "import gym\n",
    "import numpy as np\n",
    "from tqdm import trange"
   ]
  },
  {
   "cell_type": "code",
   "execution_count": 4,
   "metadata": {},
   "outputs": [],
   "source": [
    "class Q:\n",
    "    \n",
    "    def __init__(self, env, lr, discount):\n",
    "        self.env = env\n",
    "        self.lr = lr\n",
    "        self.discount = discount\n",
    "        self.q_table_shape = [50] * len(env.observation_space.high) # dimensions of the q table\n",
    "        self.q_table_category_size = (env.observation_space.high - env.observation_space.low)/self.q_table_shape\n",
    "        \n",
    "    def get_discrete_state(self, state):\n",
    "        discrete_state = (state - self.env.observation_space.low)/self.q_table_category_size\n",
    "        return tuple(discrete_state.astype(np.int))  # we use this tuple to look up the 3 Q values for the available actions in the q-table\n",
    "    \n",
    "    def train(self, episodes, epsilon, render_every):\n",
    "        EPSILON_START_DECAY = 1\n",
    "        EPSILON_END_DECAY = episodes // 2\n",
    "        EPSILON_DECAY_VALUE = epsilon / (EPSILON_END_DECAY - EPSILON_START_DECAY)\n",
    "        \n",
    "        q_table = np.random.uniform(low=-2, high=0, size=(self.q_table_shape + [self.env.action_space.n]))\n",
    "        for episode in (t := trange(episodes)):\n",
    "            discrete_state = self.get_discrete_state(self.env.reset())\n",
    "            done = False\n",
    "\n",
    "            while not done:\n",
    "\n",
    "                if np.random.random() > epsilon:\n",
    "                    # Get action from Q table\n",
    "                    action = np.argmax(q_table[discrete_state])\n",
    "                else:\n",
    "                    # Get random action\n",
    "                    action = np.random.randint(self.env.action_space.n)\n",
    "\n",
    "\n",
    "                new_state, reward, done, _ = self.env.step(action)\n",
    "                \n",
    "                #if episode % render_every == 0:\n",
    "                    #self.env.render()\n",
    "\n",
    "                new_discrete_state = self.get_discrete_state(new_state)\n",
    "\n",
    "                # If simulation did not end yet after last step - update Q table\n",
    "                if not done:\n",
    "\n",
    "                    # Maximum possible Q value in next step (for new state)\n",
    "                    max_future_q = np.max(q_table[new_discrete_state]) # returns the highest quality next move.\n",
    "\n",
    "                    # Current Q value (for current state and performed action)\n",
    "                    current_q = q_table[discrete_state + (action,)] # q value at this point in time.\n",
    "\n",
    "                    # And here's our equation for a new Q value for current state and action\n",
    "                    new_q = (1 - self.lr) * current_q + self.lr * (reward + self.discount * max_future_q)\n",
    "\n",
    "                    # Update Q table with new Q value\n",
    "                    q_table[discrete_state + (action,)] = new_q\n",
    "\n",
    "\n",
    "                # Simulation ended (for any reson) - if goal position is achived - update Q value with reward directly\n",
    "                elif new_state[0] >= self.env.goal_position:\n",
    "                    #q_table[discrete_state + (action,)] = reward\n",
    "                    q_table[discrete_state + (action,)] = 0\n",
    "                    print('Goal reached')\n",
    "\n",
    "                discrete_state = new_discrete_state\n",
    "\n",
    "            # Decaying is being done every episode if episode number is within decaying range\n",
    "            if EPSILON_END_DECAY >= episode >= EPSILON_START_DECAY:\n",
    "                epsilon -= EPSILON_DECAY_VALUE\n",
    "            t.set_description(str(epsilon))\n",
    "        env.close()"
   ]
  },
  {
   "cell_type": "code",
   "execution_count": 15,
   "metadata": {},
   "outputs": [],
   "source": [
    "env = gym.make(\"MountainCar-v0\")\n",
    "model = Q(env, 0.1, 0.95)"
   ]
  },
  {
   "cell_type": "code",
   "execution_count": 16,
   "metadata": {},
   "outputs": [
    {
     "name": "stderr",
     "output_type": "stream",
     "text": [
      "0.0:   7%|█████▏                                                                   | 708/10000 [00:20<05:00, 30.94it/s]"
     ]
    },
    {
     "name": "stdout",
     "output_type": "stream",
     "text": [
      "Goal reached\n"
     ]
    },
    {
     "name": "stderr",
     "output_type": "stream",
     "text": [
      "0.0:   7%|█████▎                                                                   | 720/10000 [00:20<05:03, 30.57it/s]"
     ]
    },
    {
     "name": "stdout",
     "output_type": "stream",
     "text": [
      "Goal reached\n"
     ]
    },
    {
     "name": "stderr",
     "output_type": "stream",
     "text": [
      "0.0:   8%|█████▌                                                                   | 760/10000 [00:22<06:26, 23.90it/s]"
     ]
    },
    {
     "name": "stdout",
     "output_type": "stream",
     "text": [
      "Goal reached\n"
     ]
    },
    {
     "name": "stderr",
     "output_type": "stream",
     "text": [
      "0.0:   8%|█████▌                                                                   | 770/10000 [00:22<05:33, 27.64it/s]"
     ]
    },
    {
     "name": "stdout",
     "output_type": "stream",
     "text": [
      "Goal reached\n"
     ]
    },
    {
     "name": "stderr",
     "output_type": "stream",
     "text": [
      "0.0:   8%|██████▏                                                                  | 846/10000 [00:25<04:35, 33.27it/s]"
     ]
    },
    {
     "name": "stdout",
     "output_type": "stream",
     "text": [
      "Goal reached\n"
     ]
    },
    {
     "name": "stderr",
     "output_type": "stream",
     "text": [
      "0.0:   9%|██████▏                                                                  | 854/10000 [00:25<05:04, 30.02it/s]"
     ]
    },
    {
     "name": "stdout",
     "output_type": "stream",
     "text": [
      "Goal reached\n"
     ]
    },
    {
     "name": "stderr",
     "output_type": "stream",
     "text": [
      "0.0:   9%|██████▍                                                                  | 881/10000 [00:26<04:31, 33.54it/s]\n"
     ]
    },
    {
     "ename": "KeyboardInterrupt",
     "evalue": "",
     "output_type": "error",
     "traceback": [
      "\u001b[1;31m---------------------------------------------------------------------------\u001b[0m",
      "\u001b[1;31mKeyboardInterrupt\u001b[0m                         Traceback (most recent call last)",
      "\u001b[1;32m<ipython-input-16-f2545112ec51>\u001b[0m in \u001b[0;36m<module>\u001b[1;34m\u001b[0m\n\u001b[1;32m----> 1\u001b[1;33m \u001b[0mmodel\u001b[0m\u001b[1;33m.\u001b[0m\u001b[0mtrain\u001b[0m\u001b[1;33m(\u001b[0m\u001b[1;36m10000\u001b[0m\u001b[1;33m,\u001b[0m \u001b[1;36m0\u001b[0m\u001b[1;33m,\u001b[0m \u001b[1;36m10001\u001b[0m\u001b[1;33m)\u001b[0m\u001b[1;33m\u001b[0m\u001b[1;33m\u001b[0m\u001b[0m\n\u001b[0m",
      "\u001b[1;32m<ipython-input-4-7b5e3c49a12b>\u001b[0m in \u001b[0;36mtrain\u001b[1;34m(self, episodes, epsilon, render_every)\u001b[0m\n\u001b[0;32m     37\u001b[0m                     \u001b[1;31m#self.env.render()\u001b[0m\u001b[1;33m\u001b[0m\u001b[1;33m\u001b[0m\u001b[1;33m\u001b[0m\u001b[0m\n\u001b[0;32m     38\u001b[0m \u001b[1;33m\u001b[0m\u001b[0m\n\u001b[1;32m---> 39\u001b[1;33m                 \u001b[0mnew_discrete_state\u001b[0m \u001b[1;33m=\u001b[0m \u001b[0mself\u001b[0m\u001b[1;33m.\u001b[0m\u001b[0mget_discrete_state\u001b[0m\u001b[1;33m(\u001b[0m\u001b[0mnew_state\u001b[0m\u001b[1;33m)\u001b[0m\u001b[1;33m\u001b[0m\u001b[1;33m\u001b[0m\u001b[0m\n\u001b[0m\u001b[0;32m     40\u001b[0m \u001b[1;33m\u001b[0m\u001b[0m\n\u001b[0;32m     41\u001b[0m                 \u001b[1;31m# If simulation did not end yet after last step - update Q table\u001b[0m\u001b[1;33m\u001b[0m\u001b[1;33m\u001b[0m\u001b[1;33m\u001b[0m\u001b[0m\n",
      "\u001b[1;32m<ipython-input-4-7b5e3c49a12b>\u001b[0m in \u001b[0;36mget_discrete_state\u001b[1;34m(self, state)\u001b[0m\n\u001b[0;32m     10\u001b[0m     \u001b[1;32mdef\u001b[0m \u001b[0mget_discrete_state\u001b[0m\u001b[1;33m(\u001b[0m\u001b[0mself\u001b[0m\u001b[1;33m,\u001b[0m \u001b[0mstate\u001b[0m\u001b[1;33m)\u001b[0m\u001b[1;33m:\u001b[0m\u001b[1;33m\u001b[0m\u001b[1;33m\u001b[0m\u001b[0m\n\u001b[0;32m     11\u001b[0m         \u001b[0mdiscrete_state\u001b[0m \u001b[1;33m=\u001b[0m \u001b[1;33m(\u001b[0m\u001b[0mstate\u001b[0m \u001b[1;33m-\u001b[0m \u001b[0mself\u001b[0m\u001b[1;33m.\u001b[0m\u001b[0menv\u001b[0m\u001b[1;33m.\u001b[0m\u001b[0mobservation_space\u001b[0m\u001b[1;33m.\u001b[0m\u001b[0mlow\u001b[0m\u001b[1;33m)\u001b[0m\u001b[1;33m/\u001b[0m\u001b[0mself\u001b[0m\u001b[1;33m.\u001b[0m\u001b[0mq_table_category_size\u001b[0m\u001b[1;33m\u001b[0m\u001b[1;33m\u001b[0m\u001b[0m\n\u001b[1;32m---> 12\u001b[1;33m         \u001b[1;32mreturn\u001b[0m \u001b[0mtuple\u001b[0m\u001b[1;33m(\u001b[0m\u001b[0mdiscrete_state\u001b[0m\u001b[1;33m.\u001b[0m\u001b[0mastype\u001b[0m\u001b[1;33m(\u001b[0m\u001b[0mnp\u001b[0m\u001b[1;33m.\u001b[0m\u001b[0mint\u001b[0m\u001b[1;33m)\u001b[0m\u001b[1;33m)\u001b[0m  \u001b[1;31m# we use this tuple to look up the 3 Q values for the available actions in the q-table\u001b[0m\u001b[1;33m\u001b[0m\u001b[1;33m\u001b[0m\u001b[0m\n\u001b[0m\u001b[0;32m     13\u001b[0m \u001b[1;33m\u001b[0m\u001b[0m\n\u001b[0;32m     14\u001b[0m     \u001b[1;32mdef\u001b[0m \u001b[0mtrain\u001b[0m\u001b[1;33m(\u001b[0m\u001b[0mself\u001b[0m\u001b[1;33m,\u001b[0m \u001b[0mepisodes\u001b[0m\u001b[1;33m,\u001b[0m \u001b[0mepsilon\u001b[0m\u001b[1;33m,\u001b[0m \u001b[0mrender_every\u001b[0m\u001b[1;33m)\u001b[0m\u001b[1;33m:\u001b[0m\u001b[1;33m\u001b[0m\u001b[1;33m\u001b[0m\u001b[0m\n",
      "\u001b[1;31mKeyboardInterrupt\u001b[0m: "
     ]
    }
   ],
   "source": [
    "model.train(1000, 0, 10001)"
   ]
  }
 ],
 "metadata": {
  "kernelspec": {
   "display_name": "Python 3",
   "language": "python",
   "name": "python3"
  },
  "language_info": {
   "codemirror_mode": {
    "name": "ipython",
    "version": 3
   },
   "file_extension": ".py",
   "mimetype": "text/x-python",
   "name": "python",
   "nbconvert_exporter": "python",
   "pygments_lexer": "ipython3",
   "version": "3.8.5"
  }
 },
 "nbformat": 4,
 "nbformat_minor": 4
}
