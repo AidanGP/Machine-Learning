{
 "cells": [
  {
   "cell_type": "code",
   "execution_count": 1,
   "metadata": {},
   "outputs": [],
   "source": [
    "import gym\n",
    "import numpy as np\n",
    "from tqdm import trange"
   ]
  },
  {
   "cell_type": "code",
   "execution_count": 4,
   "metadata": {},
   "outputs": [],
   "source": [
    "class Q:\n",
    "    \n",
    "    def __init__(self, env, lr, discount):\n",
    "        self.env = env\n",
    "        self.lr = lr\n",
    "        self.discount = discount\n",
    "        self.q_table_shape = [50] * len(env.observation_space.high) # dimensions of the q table\n",
    "        self.q_table_category_size = (env.observation_space.high - env.observation_space.low)/self.q_table_shape\n",
    "        \n",
    "    def get_discrete_state(self, state):\n",
    "        discrete_state = (state - self.env.observation_space.low)/self.q_table_category_size\n",
    "        return tuple(discrete_state.astype(np.int))  # we use this tuple to look up the 3 Q values for the available actions in the q-table\n",
    "    \n",
    "    def train(self, episodes, epsilon, render_every):\n",
    "        EPSILON_START_DECAY = 1\n",
    "        EPSILON_END_DECAY = episodes // 2\n",
    "        EPSILON_DECAY_VALUE = epsilon / (EPSILON_END_DECAY - EPSILON_START_DECAY)\n",
    "        \n",
    "        q_table = np.random.uniform(low=-2, high=0, size=(self.q_table_shape + [self.env.action_space.n]))\n",
    "        for episode in (t := trange(episodes)):\n",
    "            discrete_state = self.get_discrete_state(self.env.reset())\n",
    "            done = False\n",
    "\n",
    "            while not done:\n",
    "\n",
    "                if np.random.random() > epsilon:\n",
    "                    # Get action from Q table\n",
    "                    action = np.argmax(q_table[discrete_state])\n",
    "                else:\n",
    "                    # Get random action\n",
    "                    action = np.random.randint(self.env.action_space.n)\n",
    "\n",
    "\n",
    "                new_state, reward, done, _ = self.env.step(action)\n",
    "                \n",
    "                #if episode % render_every == 0:\n",
    "                    #self.env.render()\n",
    "\n",
    "                new_discrete_state = self.get_discrete_state(new_state)\n",
    "\n",
    "                # If simulation did not end yet after last step - update Q table\n",
    "                if not done:\n",
    "\n",
    "                    # Maximum possible Q value in next step (for new state)\n",
    "                    max_future_q = np.max(q_table[new_discrete_state]) # returns the highest quality next move.\n",
    "\n",
    "                    # Current Q value (for current state and performed action)\n",
    "                    current_q = q_table[discrete_state + (action,)] # q value at this point in time.\n",
    "\n",
    "                    # And here's our equation for a new Q value for current state and action\n",
    "                    new_q = (1 - self.lr) * current_q + self.lr * (reward + self.discount * max_future_q)\n",
    "\n",
    "                    # Update Q table with new Q value\n",
    "                    q_table[discrete_state + (action,)] = new_q\n",
    "\n",
    "\n",
    "                # Simulation ended (for any reson) - if goal position is achived - update Q value with reward directly\n",
    "                elif new_state[0] >= self.env.goal_position:\n",
    "                    #q_table[discrete_state + (action,)] = reward\n",
    "                    q_table[discrete_state + (action,)] = 0\n",
    "                    print('Goal reached')\n",
    "\n",
    "                discrete_state = new_discrete_state\n",
    "\n",
    "            # Decaying is being done every episode if episode number is within decaying range\n",
    "            if EPSILON_END_DECAY >= episode >= EPSILON_START_DECAY:\n",
    "                epsilon -= EPSILON_DECAY_VALUE\n",
    "            t.set_description(str(epsilon))\n",
    "        env.close()"
   ]
  },
  {
   "cell_type": "code",
   "execution_count": 15,
   "metadata": {},
   "outputs": [],
   "source": [
    "env = gym.make(\"MountainCar-v0\")\n",
    "model = Q(env, 0.1, 0.95)"
   ]
  },
  {
   "cell_type": "code",
   "execution_count": 17,
   "metadata": {},
   "outputs": [
    {
     "name": "stderr",
     "output_type": "stream",
     "text": [
      "0.0:  42%|███████████████████████████████▏                                          | 422/1000 [00:10<00:14, 38.76it/s]"
     ]
    },
    {
     "name": "stdout",
     "output_type": "stream",
     "text": [
      "Goal reached\n"
     ]
    },
    {
     "name": "stderr",
     "output_type": "stream",
     "text": [
      "0.0:  77%|████████████████████████████████████████████████████████▋                 | 766/1000 [00:29<00:18, 13.00it/s]"
     ]
    },
    {
     "name": "stdout",
     "output_type": "stream",
     "text": [
      "Goal reached\n"
     ]
    },
    {
     "name": "stderr",
     "output_type": "stream",
     "text": [
      "0.0:  93%|████████████████████████████████████████████████████████████████████▊     | 930/1000 [00:40<00:05, 13.42it/s]"
     ]
    },
    {
     "name": "stdout",
     "output_type": "stream",
     "text": [
      "Goal reached\n",
      "Goal reached\n"
     ]
    },
    {
     "name": "stderr",
     "output_type": "stream",
     "text": [
      "0.0:  93%|█████████████████████████████████████████████████████████████████████     | 934/1000 [00:40<00:05, 13.11it/s]"
     ]
    },
    {
     "name": "stdout",
     "output_type": "stream",
     "text": [
      "Goal reached\n"
     ]
    },
    {
     "name": "stderr",
     "output_type": "stream",
     "text": [
      "0.0: 100%|█████████████████████████████████████████████████████████████████████████| 1000/1000 [00:45<00:00, 21.82it/s]\n"
     ]
    }
   ],
   "source": [
    "model.train(1000, 0, 10001)"
   ]
  },
  {
   "cell_type": "code",
   "execution_count": null,
   "metadata": {},
   "outputs": [],
   "source": []
  }
 ],
 "metadata": {
  "kernelspec": {
   "display_name": "Python 3",
   "language": "python",
   "name": "python3"
  },
  "language_info": {
   "codemirror_mode": {
    "name": "ipython",
    "version": 3
   },
   "file_extension": ".py",
   "mimetype": "text/x-python",
   "name": "python",
   "nbconvert_exporter": "python",
   "pygments_lexer": "ipython3",
   "version": "3.8.5"
  }
 },
 "nbformat": 4,
 "nbformat_minor": 4
}
