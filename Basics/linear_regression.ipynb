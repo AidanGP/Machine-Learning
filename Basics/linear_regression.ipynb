{
 "cells": [
  {
   "cell_type": "code",
   "execution_count": 1,
   "metadata": {},
   "outputs": [],
   "source": [
    "import numpy as np\n",
    "import matplotlib.pyplot as plt"
   ]
  },
  {
   "cell_type": "code",
   "execution_count": 57,
   "metadata": {},
   "outputs": [],
   "source": [
    "class LinearRegression:\n",
    "    def __init__(self, inputs, targets, learning_rate=0.01):\n",
    "        w_shape = list(inputs.shape)[::-1]\n",
    "        w_shape[0] += 1\n",
    "        self.weights = np.random.randn(*w_shape)\n",
    "        self.features  = np.c_[ np.ones((len(inputs), 1)), inputs ]\n",
    "        self.targets = targets\n",
    "\n",
    "        self.learning_rate = learning_rate\n",
    "\n",
    "        self.x_axis = [ ]\n",
    "        self.y_axis = [ ]\n",
    "\n",
    "    def model(self):\n",
    "        return np.matmul(self.features, self.weights)\n",
    "\n",
    "    def loss(self):\n",
    "        return np.sum(np.square(self.model() - self.targets)) / 2\n",
    "\n",
    "    def train(self, epochs):\n",
    "        for epoch in range(epochs):\n",
    "\n",
    "            self.x_axis.append(len(self.x_axis) + epoch)\n",
    "            self.y_axis.append(self.loss())\n",
    "\n",
    "            gradient = np.matmul(self.features.T, (self.model() - self.targets))\n",
    "\n",
    "            self.weights -= self.learning_rate * gradient\n",
    "\n",
    "    def draw(self):\n",
    "        fig = plt.figure()\n",
    "        ax1 = fig.add_subplot(111)\n",
    "        ax1.set_title('Linear Regression Loss/Time')\n",
    "        ax1.set_ylabel('LOSS : J(A)')\n",
    "        ax1.set_xlabel('EPOCH')\n",
    "        ax1.plot(self.x_axis, self.y_axis, linestyle='dashed', color='#6ffc03')\n",
    "\n",
    "    def get_equation(self):\n",
    "        eqn = []\n",
    "        coefficients = self.weights.flatten()\n",
    "        for term in range(len(coefficients)):\n",
    "            coeff = str(\"%.2f\" % coefficients[term])\n",
    "            X = '(' + coeff + ' x X' + str(term) + ')'\n",
    "            eqn.append(X)\n",
    "        return 'y = ' + ' + '.join(eqn)\n",
    "\n",
    "    def test(self, inputs):\n",
    "        features = np.c_[ np.ones((len(inputs), 1)), inputs ]\n",
    "        model = np.matmul(features, self.weights)\n",
    "        return [(inputs[i].tolist(), \"%.2f\" % model[i]) for i in range(len(model))]\n"
   ]
  },
  {
   "cell_type": "code",
   "execution_count": 58,
   "metadata": {},
   "outputs": [],
   "source": [
    "X = np.random.randn(100, 1)\n",
    "y = 3 * X + 4"
   ]
  },
  {
   "cell_type": "code",
   "execution_count": 59,
   "metadata": {},
   "outputs": [],
   "source": [
    "model = LinearRegression(X, y)"
   ]
  },
  {
   "cell_type": "code",
   "execution_count": 75,
   "metadata": {},
   "outputs": [],
   "source": [
    "model.train(10)"
   ]
  },
  {
   "cell_type": "code",
   "execution_count": 77,
   "metadata": {},
   "outputs": [
    {
     "data": {
      "text/plain": [
       "3.673133589935336e-28"
      ]
     },
     "execution_count": 77,
     "metadata": {},
     "output_type": "execute_result"
    }
   ],
   "source": [
    "model.loss()"
   ]
  },
  {
   "cell_type": "code",
   "execution_count": 78,
   "metadata": {},
   "outputs": [
    {
     "data": {
      "image/png": "[encoded data removed]",
      "text/plain": [
       "<Figure size 432x288 with 1 Axes>"
      ]
     },
     "metadata": {
      "needs_background": "light"
     },
     "output_type": "display_data"
    }
   ],
   "source": [
    "model.draw()"
   ]
  }
 ],
 "metadata": {
  "kernelspec": {
   "display_name": "Python 3",
   "language": "python",
   "name": "python3"
  },
  "language_info": {
   "codemirror_mode": {
    "name": "ipython",
    "version": 3
   },
   "file_extension": ".py",
   "mimetype": "text/x-python",
   "name": "python",
   "nbconvert_exporter": "python",
   "pygments_lexer": "ipython3",
   "version": "3.8.5"
  }
 },
 "nbformat": 4,
 "nbformat_minor": 4
}
