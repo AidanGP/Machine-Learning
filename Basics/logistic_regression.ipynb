{
 "cells": [
  {
   "cell_type": "code",
   "execution_count": 1,
   "metadata": {},
   "outputs": [],
   "source": [
    "import numpy as np\n",
    "import matplotlib.pyplot as plt"
   ]
  },
  {
   "cell_type": "code",
   "execution_count": 2,
   "metadata": {},
   "outputs": [],
   "source": [
    "class LogisticRegression:\n",
    "    def __init__(self, inputs, targets, learning_rate=0.01):\n",
    "        shape = inputs.shape[1] + 1\n",
    "        self.weights = np.random.randn(shape, 1)\n",
    "        self.features = np.c_[ np.ones((len(inputs), 1)), inputs ]\n",
    "        self.targets = targets\n",
    "\n",
    "        self.learning_rate = learning_rate\n",
    "\n",
    "        self.x_axis = [ ]\n",
    "        self.y_axis = [ ]\n",
    "\n",
    "    def model(self):\n",
    "        return 1 / (1 + np.exp(- 1 * (np.matmul(self.features, self.weights))))\n",
    "\n",
    "    def loss(self):\n",
    "        m = len(self.targets)\n",
    "        prediction = self.model()\n",
    "        cost = np.sum(self.targets * np.log(prediction) + (1 - self.targets) * np.log(1 - prediction))\n",
    "        return - cost / m\n",
    "\n",
    "    def train(self, epochs):\n",
    "        for epoch in range(epochs):\n",
    "\n",
    "            self.x_axis.append(epoch)\n",
    "            self.y_axis.append(self.loss())\n",
    "\n",
    "            gradient = np.matmul(self.features.T, (self.model() - self.targets))\n",
    "\n",
    "            self.weights -= self.learning_rate * gradient\n",
    "\n",
    "    def draw(self):\n",
    "        fig = plt.figure()\n",
    "        ax1 = fig.add_subplot(111)\n",
    "        ax1.set_title('Logistic Regression Loss/Time')\n",
    "        ax1.set_ylabel('LOSS : J(A)')\n",
    "        ax1.set_xlabel('EPOCH')\n",
    "        ax1.plot(self.x_axis, self.y_axis, linestyle='dashed', color='#6ffc03')\n",
    "\n",
    "    def get_equation(self):\n",
    "        eqn = []\n",
    "        coefficients = self.weights.flatten()\n",
    "        for term in range(len(coefficients)):\n",
    "            coeff = str(\"%.2f\" % coefficients[term])\n",
    "            X = '(' + coeff + ' x X' + str(term) + ')'\n",
    "            eqn.append(X)\n",
    "        return 'y = ' + 'sigmoid(' + ' + '.join(eqn) + ')'\n",
    "\n",
    "    def test(self, inputs):\n",
    "        features = np.c_[ np.ones((len(inputs), 1)), inputs ]\n",
    "        model = 1 / (1 + np.exp(- 1 * (np.matmul(features, self.weights))))\n",
    "        return [(inputs[i].tolist(), \"%.2f\" % model[i]) for i in range(len(model))]"
   ]
  }
 ],
 "metadata": {
  "kernelspec": {
   "display_name": "Python 3",
   "language": "python",
   "name": "python3"
  },
  "language_info": {
   "codemirror_mode": {
    "name": "ipython",
    "version": 3
   },
   "file_extension": ".py",
   "mimetype": "text/x-python",
   "name": "python",
   "nbconvert_exporter": "python",
   "pygments_lexer": "ipython3",
   "version": "3.8.5"
  }
 },
 "nbformat": 4,
 "nbformat_minor": 4
}
